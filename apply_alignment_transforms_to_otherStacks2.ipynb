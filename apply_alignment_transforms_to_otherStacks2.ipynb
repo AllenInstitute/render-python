{
 "cells": [
  {
   "cell_type": "code",
   "execution_count": 19,
   "metadata": {
    "collapsed": false
   },
   "outputs": [],
   "source": [
    "import xml.etree.ElementTree as ET\n",
    "from tilespec import TileSpec,Transform,AffineModel\n",
    "from renderapi import Render\n",
    "import os\n",
    "import json\n",
    "import numpy as np"
   ]
  },
  {
   "cell_type": "code",
   "execution_count": 20,
   "metadata": {
    "collapsed": false
   },
   "outputs": [],
   "source": [
    "inputfile='/nas/data/M247514_Rorb_1/scripts/test/out_edit2.xml'\n",
    "prealignedOwner = 'Sharmishtaas'\n",
    "prealignedProject = 'M247514_Rorb_1'\n",
    "prealignedStack = 'REGISTERED_FLATFIELD_FIX_MBP'\n",
    "\n",
    "postalignedOwner = prealignedOwner\n",
    "postalignedProject = prealignedProject\n",
    "postalignedStack = 'ALIGNED_MBP'\n",
    "\n",
    "inputOwner = prealignedOwner\n",
    "inputProject = prealignedProject\n",
    "inputPrefix = 'REGISTERED_FLATFIELD_FIX_'\n",
    "\n",
    "outputOwner = prealignedOwner\n",
    "outputProject = prealignedProject\n",
    "outputPrefix = 'ALIGNED2_'\n",
    "\n",
    "outputDir = '/nas/data/M247514_Rorb_1/processed/aligned_tilespecs'\n",
    "host = 'ibs-forrestc-ux1.corp.alleninstitute.org'\n",
    "port = 8081\n",
    "render = Render(host,port,inputOwner,inputProject)"
   ]
  },
  {
   "cell_type": "code",
   "execution_count": 21,
   "metadata": {
    "collapsed": false
   },
   "outputs": [
    {
     "name": "stdout",
     "output_type": "stream",
     "text": [
      "http://ibs-forrestc-ux1.corp.alleninstitute.org:8081/render-ws/v1/owner/Sharmishtaas/stacks/\n"
     ]
    }
   ],
   "source": [
    "inputStacks = [st for st in render.get_stacks_by_owner_project(inputOwner,inputProject) if st.startswith(inputPrefix)]"
   ]
  },
  {
   "cell_type": "code",
   "execution_count": 24,
   "metadata": {
    "collapsed": false
   },
   "outputs": [],
   "source": [
    "def define_aligned_tilespecs(prealignedStack,postalignedStack,inputStack):\n",
    "    zvalues = render.get_z_values_for_stack(inputStack)\n",
    "    #zvalues = [22.0]\n",
    "    finaltilespecs = []\n",
    "    for z in zvalues:\n",
    "        prealignedTS = render.get_tile_specs_from_z(prealignedStack,z,owner=prealignedOwner)[7]\n",
    "        postalignedTS = render.get_tile_specs_from_z(postalignedStack,z,owner=postalignedOwner)\n",
    "        postalignedTS =[ts for ts in postalignedTS if ts.tileId==prealignedTS.tileId][0]\n",
    "        tform_W_to_R = prealignedTS.tforms\n",
    "\n",
    "        tform_R_to_W = list(tform_W_to_R)\n",
    "        tform_R_to_W.reverse()\n",
    "        tform_R_to_W = [tf.invert() for tf in tform_R_to_W]\n",
    "\n",
    "        tform_W_to_A = postalignedTS.tforms\n",
    "\n",
    "        tform_R_to_A = tform_R_to_W + tform_W_to_A\n",
    "        #print tform_R_to_A\n",
    "\n",
    "        inputTS = render.get_tile_specs_from_z(inputStack,z,owner=inputOwner)\n",
    "        for ts in inputTS:\n",
    "            ts.tforms+=tform_R_to_A\n",
    "            finaltilespecs.append(ts)\n",
    "    return finaltilespecs"
   ]
  },
  {
   "cell_type": "code",
   "execution_count": 25,
   "metadata": {
    "collapsed": false
   },
   "outputs": [
    {
     "name": "stdout",
     "output_type": "stream",
     "text": [
      "REGISTERED_FLATFIELD_FIX_MBP ALIGNED2_MBP\n",
      "http://ibs-forrestc-ux1.corp.alleninstitute.org:8081/render-ws/v1/owner/Sharmishtaas/project/M247514_Rorb_1/stack/REGISTERED_FLATFIELD_FIX_MBP/zValues/\n",
      "ALIGNED2_MBP /nas/data/M247514_Rorb_1/processed/aligned_tilespecs/Sharmishtaas_M247514_Rorb_1_ALIGNED2_MBP.json\n",
      "\n",
      "http://ibs-forrestc-ux1.corp.alleninstitute.org:8081/render-ws/v1/owner/Sharmishtaas/project/M247514_Rorb_1/stack/ALIGNED2_MBP/state/LOADING\n",
      "http://ibs-forrestc-ux1.corp.alleninstitute.org:8081/render-ws/v1/owner/Sharmishtaas/project/M247514_Rorb_1/stack/ALIGNED2_MBP/state/COMPLETE\n",
      "REGISTERED_FLATFIELD_FIX_DAPI_3 ALIGNED2_DAPI_3\n",
      "http://ibs-forrestc-ux1.corp.alleninstitute.org:8081/render-ws/v1/owner/Sharmishtaas/project/M247514_Rorb_1/stack/REGISTERED_FLATFIELD_FIX_DAPI_3/zValues/\n",
      "ALIGNED2_DAPI_3 /nas/data/M247514_Rorb_1/processed/aligned_tilespecs/Sharmishtaas_M247514_Rorb_1_ALIGNED2_DAPI_3.json\n",
      "\n",
      "http://ibs-forrestc-ux1.corp.alleninstitute.org:8081/render-ws/v1/owner/Sharmishtaas/project/M247514_Rorb_1/stack/ALIGNED2_DAPI_3/state/LOADING\n",
      "http://ibs-forrestc-ux1.corp.alleninstitute.org:8081/render-ws/v1/owner/Sharmishtaas/project/M247514_Rorb_1/stack/ALIGNED2_DAPI_3/state/COMPLETE\n",
      "REGISTERED_FLATFIELD_FIX_DAPI_1 ALIGNED2_DAPI_1\n",
      "http://ibs-forrestc-ux1.corp.alleninstitute.org:8081/render-ws/v1/owner/Sharmishtaas/project/M247514_Rorb_1/stack/REGISTERED_FLATFIELD_FIX_DAPI_1/zValues/\n",
      "ALIGNED2_DAPI_1 /nas/data/M247514_Rorb_1/processed/aligned_tilespecs/Sharmishtaas_M247514_Rorb_1_ALIGNED2_DAPI_1.json\n",
      "\n",
      "http://ibs-forrestc-ux1.corp.alleninstitute.org:8081/render-ws/v1/owner/Sharmishtaas/project/M247514_Rorb_1/stack/ALIGNED2_DAPI_1/state/LOADING\n",
      "http://ibs-forrestc-ux1.corp.alleninstitute.org:8081/render-ws/v1/owner/Sharmishtaas/project/M247514_Rorb_1/stack/ALIGNED2_DAPI_1/state/COMPLETE\n",
      "REGISTERED_FLATFIELD_FIX_DAPI_2 ALIGNED2_DAPI_2\n",
      "http://ibs-forrestc-ux1.corp.alleninstitute.org:8081/render-ws/v1/owner/Sharmishtaas/project/M247514_Rorb_1/stack/REGISTERED_FLATFIELD_FIX_DAPI_2/zValues/\n",
      "ALIGNED2_DAPI_2 /nas/data/M247514_Rorb_1/processed/aligned_tilespecs/Sharmishtaas_M247514_Rorb_1_ALIGNED2_DAPI_2.json\n",
      "\n",
      "http://ibs-forrestc-ux1.corp.alleninstitute.org:8081/render-ws/v1/owner/Sharmishtaas/project/M247514_Rorb_1/stack/ALIGNED2_DAPI_2/state/LOADING\n",
      "http://ibs-forrestc-ux1.corp.alleninstitute.org:8081/render-ws/v1/owner/Sharmishtaas/project/M247514_Rorb_1/stack/ALIGNED2_DAPI_2/state/COMPLETE\n",
      "REGISTERED_FLATFIELD_FIX_TdTomato ALIGNED2_TdTomato\n",
      "http://ibs-forrestc-ux1.corp.alleninstitute.org:8081/render-ws/v1/owner/Sharmishtaas/project/M247514_Rorb_1/stack/REGISTERED_FLATFIELD_FIX_TdTomato/zValues/\n",
      "ALIGNED2_TdTomato /nas/data/M247514_Rorb_1/processed/aligned_tilespecs/Sharmishtaas_M247514_Rorb_1_ALIGNED2_TdTomato.json\n",
      "\n",
      "http://ibs-forrestc-ux1.corp.alleninstitute.org:8081/render-ws/v1/owner/Sharmishtaas/project/M247514_Rorb_1/stack/ALIGNED2_TdTomato/state/LOADING\n",
      "http://ibs-forrestc-ux1.corp.alleninstitute.org:8081/render-ws/v1/owner/Sharmishtaas/project/M247514_Rorb_1/stack/ALIGNED2_TdTomato/state/COMPLETE\n",
      "REGISTERED_FLATFIELD_FIX_synapsin ALIGNED2_synapsin\n",
      "http://ibs-forrestc-ux1.corp.alleninstitute.org:8081/render-ws/v1/owner/Sharmishtaas/project/M247514_Rorb_1/stack/REGISTERED_FLATFIELD_FIX_synapsin/zValues/\n",
      "ALIGNED2_synapsin /nas/data/M247514_Rorb_1/processed/aligned_tilespecs/Sharmishtaas_M247514_Rorb_1_ALIGNED2_synapsin.json\n",
      "\n",
      "http://ibs-forrestc-ux1.corp.alleninstitute.org:8081/render-ws/v1/owner/Sharmishtaas/project/M247514_Rorb_1/stack/ALIGNED2_synapsin/state/LOADING\n",
      "http://ibs-forrestc-ux1.corp.alleninstitute.org:8081/render-ws/v1/owner/Sharmishtaas/project/M247514_Rorb_1/stack/ALIGNED2_synapsin/state/COMPLETE\n",
      "REGISTERED_FLATFIELD_FIX_VGlut1 ALIGNED2_VGlut1\n",
      "http://ibs-forrestc-ux1.corp.alleninstitute.org:8081/render-ws/v1/owner/Sharmishtaas/project/M247514_Rorb_1/stack/REGISTERED_FLATFIELD_FIX_VGlut1/zValues/\n",
      "ALIGNED2_VGlut1 /nas/data/M247514_Rorb_1/processed/aligned_tilespecs/Sharmishtaas_M247514_Rorb_1_ALIGNED2_VGlut1.json\n",
      "\n",
      "http://ibs-forrestc-ux1.corp.alleninstitute.org:8081/render-ws/v1/owner/Sharmishtaas/project/M247514_Rorb_1/stack/ALIGNED2_VGlut1/state/LOADING\n",
      "http://ibs-forrestc-ux1.corp.alleninstitute.org:8081/render-ws/v1/owner/Sharmishtaas/project/M247514_Rorb_1/stack/ALIGNED2_VGlut1/state/COMPLETE\n",
      "REGISTERED_FLATFIELD_FIX_PSD95 ALIGNED2_PSD95\n",
      "http://ibs-forrestc-ux1.corp.alleninstitute.org:8081/render-ws/v1/owner/Sharmishtaas/project/M247514_Rorb_1/stack/REGISTERED_FLATFIELD_FIX_PSD95/zValues/\n",
      "ALIGNED2_PSD95 /nas/data/M247514_Rorb_1/processed/aligned_tilespecs/Sharmishtaas_M247514_Rorb_1_ALIGNED2_PSD95.json\n",
      "\n",
      "http://ibs-forrestc-ux1.corp.alleninstitute.org:8081/render-ws/v1/owner/Sharmishtaas/project/M247514_Rorb_1/stack/ALIGNED2_PSD95/state/LOADING\n",
      "http://ibs-forrestc-ux1.corp.alleninstitute.org:8081/render-ws/v1/owner/Sharmishtaas/project/M247514_Rorb_1/stack/ALIGNED2_PSD95/state/COMPLETE\n",
      "REGISTERED_FLATFIELD_FIX_Gephyrin ALIGNED2_Gephyrin\n",
      "http://ibs-forrestc-ux1.corp.alleninstitute.org:8081/render-ws/v1/owner/Sharmishtaas/project/M247514_Rorb_1/stack/REGISTERED_FLATFIELD_FIX_Gephyrin/zValues/\n",
      "ALIGNED2_Gephyrin /nas/data/M247514_Rorb_1/processed/aligned_tilespecs/Sharmishtaas_M247514_Rorb_1_ALIGNED2_Gephyrin.json\n",
      "\n",
      "http://ibs-forrestc-ux1.corp.alleninstitute.org:8081/render-ws/v1/owner/Sharmishtaas/project/M247514_Rorb_1/stack/ALIGNED2_Gephyrin/state/LOADING\n",
      "http://ibs-forrestc-ux1.corp.alleninstitute.org:8081/render-ws/v1/owner/Sharmishtaas/project/M247514_Rorb_1/stack/ALIGNED2_Gephyrin/state/COMPLETE\n",
      "REGISTERED_FLATFIELD_FIX_GAD2 ALIGNED2_GAD2\n",
      "http://ibs-forrestc-ux1.corp.alleninstitute.org:8081/render-ws/v1/owner/Sharmishtaas/project/M247514_Rorb_1/stack/REGISTERED_FLATFIELD_FIX_GAD2/zValues/\n",
      "ALIGNED2_GAD2 /nas/data/M247514_Rorb_1/processed/aligned_tilespecs/Sharmishtaas_M247514_Rorb_1_ALIGNED2_GAD2.json\n",
      "\n",
      "http://ibs-forrestc-ux1.corp.alleninstitute.org:8081/render-ws/v1/owner/Sharmishtaas/project/M247514_Rorb_1/stack/ALIGNED2_GAD2/state/LOADING\n",
      "http://ibs-forrestc-ux1.corp.alleninstitute.org:8081/render-ws/v1/owner/Sharmishtaas/project/M247514_Rorb_1/stack/ALIGNED2_GAD2/state/COMPLETE\n",
      "REGISTERED_FLATFIELD_FIX_GABA ALIGNED2_GABA\n",
      "http://ibs-forrestc-ux1.corp.alleninstitute.org:8081/render-ws/v1/owner/Sharmishtaas/project/M247514_Rorb_1/stack/REGISTERED_FLATFIELD_FIX_GABA/zValues/\n",
      "ALIGNED2_GABA /nas/data/M247514_Rorb_1/processed/aligned_tilespecs/Sharmishtaas_M247514_Rorb_1_ALIGNED2_GABA.json\n",
      "\n",
      "http://ibs-forrestc-ux1.corp.alleninstitute.org:8081/render-ws/v1/owner/Sharmishtaas/project/M247514_Rorb_1/stack/ALIGNED2_GABA/state/LOADING\n",
      "http://ibs-forrestc-ux1.corp.alleninstitute.org:8081/render-ws/v1/owner/Sharmishtaas/project/M247514_Rorb_1/stack/ALIGNED2_GABA/state/COMPLETE\n",
      "REGISTERED_FLATFIELD_FIX_GluN1 ALIGNED2_GluN1\n",
      "http://ibs-forrestc-ux1.corp.alleninstitute.org:8081/render-ws/v1/owner/Sharmishtaas/project/M247514_Rorb_1/stack/REGISTERED_FLATFIELD_FIX_GluN1/zValues/\n",
      "ALIGNED2_GluN1 /nas/data/M247514_Rorb_1/processed/aligned_tilespecs/Sharmishtaas_M247514_Rorb_1_ALIGNED2_GluN1.json\n",
      "\n",
      "http://ibs-forrestc-ux1.corp.alleninstitute.org:8081/render-ws/v1/owner/Sharmishtaas/project/M247514_Rorb_1/stack/ALIGNED2_GluN1/state/LOADING\n",
      "http://ibs-forrestc-ux1.corp.alleninstitute.org:8081/render-ws/v1/owner/Sharmishtaas/project/M247514_Rorb_1/stack/ALIGNED2_GluN1/state/COMPLETE\n"
     ]
    }
   ],
   "source": [
    "for inputStack in inputStacks:\n",
    "    inputchannel = inputStack.replace(inputPrefix,'')\n",
    "    outputStack = outputPrefix + inputchannel\n",
    "    print inputStack,outputStack\n",
    "    \n",
    "    finaltilespecs = define_aligned_tilespecs(prealignedStack,postalignedStack,inputStack)\n",
    "    json_tilespecs=[ts.to_dict() for ts in finaltilespecs]\n",
    "    if not os.path.isdir(outputDir):\n",
    "        os.makedirs(outputDir)\n",
    "    outjson = os.path.join(outputDir,'%s_%s_%s.json'%(inputOwner,inputProject,outputStack))\n",
    "    json.dump(json_tilespecs,open(outjson,'w'),indent=4)\n",
    "    print outputStack,outjson\n",
    "    render.delete_stack(outputStack,owner=outputOwner,project=outputProject)\n",
    "    render.create_stack(outputStack,owner=outputOwner,project=outputProject)\n",
    "    \n",
    "    render.import_jsonfiles(outputStack,[outjson],owner=outputOwner,project=outputProject)"
   ]
  },
  {
   "cell_type": "code",
   "execution_count": null,
   "metadata": {
    "collapsed": true
   },
   "outputs": [],
   "source": []
  }
 ],
 "metadata": {
  "kernelspec": {
   "display_name": "Python 2",
   "language": "python",
   "name": "python2"
  },
  "language_info": {
   "codemirror_mode": {
    "name": "ipython",
    "version": 2
   },
   "file_extension": ".py",
   "mimetype": "text/x-python",
   "name": "python",
   "nbconvert_exporter": "python",
   "pygments_lexer": "ipython2",
   "version": "2.7.12"
  }
 },
 "nbformat": 4,
 "nbformat_minor": 0
}
